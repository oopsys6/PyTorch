{
 "cells": [
  {
   "cell_type": "code",
   "execution_count": 4,
   "metadata": {},
   "outputs": [],
   "source": [
    "import torch\n",
    "import torch.nn as nn\n",
    "import torch.nn.functional as F\n",
    "import torch.optim as optim"
   ]
  },
  {
   "cell_type": "code",
   "execution_count": 5,
   "metadata": {},
   "outputs": [],
   "source": [
    "x_train = torch.FloatTensor([[73, 80, 75],\n",
    "                             [93, 88, 93],\n",
    "                             [89, 91, 90],\n",
    "                             [96, 98, 100],\n",
    "                             [73, 66, 70]])\n",
    "y_train = torch.FloatTensor([[152], [185], [180], [196], [142]])"
   ]
  },
  {
   "cell_type": "code",
   "execution_count": 6,
   "metadata": {},
   "outputs": [
    {
     "name": "stdout",
     "output_type": "stream",
     "text": [
      "torch.Size([5, 3])\n",
      "torch.Size([5, 1])\n"
     ]
    }
   ],
   "source": [
    "print(x_train.shape)\n",
    "print(y_train.shape)"
   ]
  },
  {
   "cell_type": "code",
   "execution_count": 7,
   "metadata": {},
   "outputs": [
    {
     "name": "stdout",
     "output_type": "stream",
     "text": [
      "Epoch    0/20 hypothesis: tensor([0., 0., 0., 0., 0.]) Cost: 29661.800781\n",
      "Epoch    1/20 hypothesis: tensor([67.2578, 80.8397, 79.6523, 86.7394, 61.6605]) Cost: 9298.520508\n",
      "Epoch    2/20 hypothesis: tensor([104.9128, 126.0990, 124.2466, 135.3015,  96.1821]) Cost: 2915.712402\n",
      "Epoch    3/20 hypothesis: tensor([125.9942, 151.4381, 149.2133, 162.4896, 115.5097]) Cost: 915.040527\n",
      "Epoch    4/20 hypothesis: tensor([137.7967, 165.6247, 163.1911, 177.7112, 126.3307]) Cost: 287.936096\n",
      "Epoch    5/20 hypothesis: tensor([144.4044, 173.5674, 171.0168, 186.2332, 132.3891]) Cost: 91.371071\n",
      "Epoch    6/20 hypothesis: tensor([148.1035, 178.0143, 175.3980, 191.0042, 135.7812]) Cost: 29.758249\n",
      "Epoch    7/20 hypothesis: tensor([150.1744, 180.5042, 177.8509, 193.6753, 137.6805]) Cost: 10.445267\n",
      "Epoch    8/20 hypothesis: tensor([151.3336, 181.8983, 179.2240, 195.1707, 138.7440]) Cost: 4.391237\n",
      "Epoch    9/20 hypothesis: tensor([151.9824, 182.6789, 179.9928, 196.0079, 139.3396]) Cost: 2.493121\n",
      "Epoch   10/20 hypothesis: tensor([152.3454, 183.1161, 180.4231, 196.4765, 139.6732]) Cost: 1.897688\n",
      "Epoch   11/20 hypothesis: tensor([152.5485, 183.3609, 180.6640, 196.7389, 139.8602]) Cost: 1.710552\n",
      "Epoch   12/20 hypothesis: tensor([152.6620, 183.4982, 180.7988, 196.8857, 139.9651]) Cost: 1.651416\n",
      "Epoch   13/20 hypothesis: tensor([152.7253, 183.5752, 180.8742, 196.9678, 140.0240]) Cost: 1.632369\n",
      "Epoch   14/20 hypothesis: tensor([152.7606, 183.6184, 180.9164, 197.0138, 140.0571]) Cost: 1.625924\n",
      "Epoch   15/20 hypothesis: tensor([152.7802, 183.6427, 180.9399, 197.0395, 140.0759]) Cost: 1.623420\n",
      "Epoch   16/20 hypothesis: tensor([152.7909, 183.6565, 180.9530, 197.0538, 140.0865]) Cost: 1.622152\n",
      "Epoch   17/20 hypothesis: tensor([152.7968, 183.6643, 180.9603, 197.0618, 140.0927]) Cost: 1.621261\n",
      "Epoch   18/20 hypothesis: tensor([152.7999, 183.6688, 180.9644, 197.0661, 140.0963]) Cost: 1.620501\n",
      "Epoch   19/20 hypothesis: tensor([152.8014, 183.6715, 180.9665, 197.0686, 140.0985]) Cost: 1.619757\n",
      "Epoch   20/20 hypothesis: tensor([152.8020, 183.6731, 180.9677, 197.0699, 140.0999]) Cost: 1.619046\n"
     ]
    }
   ],
   "source": [
    "# 모델 초기화\n",
    "W = torch.zeros((3, 1), requires_grad=True)\n",
    "b = torch.zeros(1, requires_grad=True)\n",
    "# optimizer 설정\n",
    "optimizer = optim.SGD([W, b], lr=1e-5)\n",
    "\n",
    "nb_epochs = 20\n",
    "for epoch in range(nb_epochs + 1):\n",
    "    \n",
    "    # H(x) 계산\n",
    "    hypothesis = x_train.matmul(W) + b # or .mm or @\n",
    "\n",
    "    # cost 계산\n",
    "    cost = torch.mean((hypothesis - y_train) ** 2)\n",
    "\n",
    "    # cost로 H(x) 개선\n",
    "    optimizer.zero_grad()\n",
    "    cost.backward()\n",
    "    optimizer.step()\n",
    "\n",
    "    # 100번마다 로그 출력\n",
    "    print('Epoch {:4d}/{} hypothesis: {} Cost: {:.6f}'.format(\n",
    "        epoch, nb_epochs, hypothesis.squeeze().detach(), cost.item()\n",
    "    ))"
   ]
  },
  {
   "cell_type": "code",
   "execution_count": 8,
   "metadata": {},
   "outputs": [],
   "source": [
    "class MultivariateLinearRegressionModel(nn.Module):\n",
    "    def __init__(self):\n",
    "        super().__init__()\n",
    "        self.linear = nn.Linear(3, 1)\n",
    "\n",
    "    def forward(self, x):\n",
    "        return self.linear(x)"
   ]
  },
  {
   "cell_type": "code",
   "execution_count": 13,
   "metadata": {},
   "outputs": [
    {
     "name": "stdout",
     "output_type": "stream",
     "text": [
      "Epoch    0/20 hypothesis: tensor([152.8022, 183.6741, 180.9683, 197.0706, 140.1009]) Cost: 55679.882812\n",
      "Epoch    1/20 hypothesis: tensor([152.8022, 183.6741, 180.9683, 197.0706, 140.1009]) Cost: 17453.191406\n",
      "Epoch    2/20 hypothesis: tensor([152.8022, 183.6741, 180.9683, 197.0706, 140.1009]) Cost: 5471.153320\n",
      "Epoch    3/20 hypothesis: tensor([152.8022, 183.6741, 180.9683, 197.0706, 140.1009]) Cost: 1715.420654\n",
      "Epoch    4/20 hypothesis: tensor([152.8022, 183.6741, 180.9683, 197.0706, 140.1009]) Cost: 538.198120\n",
      "Epoch    5/20 hypothesis: tensor([152.8022, 183.6741, 180.9683, 197.0706, 140.1009]) Cost: 169.201385\n",
      "Epoch    6/20 hypothesis: tensor([152.8022, 183.6741, 180.9683, 197.0706, 140.1009]) Cost: 53.540497\n",
      "Epoch    7/20 hypothesis: tensor([152.8022, 183.6741, 180.9683, 197.0706, 140.1009]) Cost: 17.286747\n",
      "Epoch    8/20 hypothesis: tensor([152.8022, 183.6741, 180.9683, 197.0706, 140.1009]) Cost: 5.923143\n",
      "Epoch    9/20 hypothesis: tensor([152.8022, 183.6741, 180.9683, 197.0706, 140.1009]) Cost: 2.361252\n",
      "Epoch   10/20 hypothesis: tensor([152.8022, 183.6741, 180.9683, 197.0706, 140.1009]) Cost: 1.244707\n",
      "Epoch   11/20 hypothesis: tensor([152.8022, 183.6741, 180.9683, 197.0706, 140.1009]) Cost: 0.894714\n",
      "Epoch   12/20 hypothesis: tensor([152.8022, 183.6741, 180.9683, 197.0706, 140.1009]) Cost: 0.784952\n",
      "Epoch   13/20 hypothesis: tensor([152.8022, 183.6741, 180.9683, 197.0706, 140.1009]) Cost: 0.750523\n",
      "Epoch   14/20 hypothesis: tensor([152.8022, 183.6741, 180.9683, 197.0706, 140.1009]) Cost: 0.739707\n",
      "Epoch   15/20 hypothesis: tensor([152.8022, 183.6741, 180.9683, 197.0706, 140.1009]) Cost: 0.736256\n",
      "Epoch   16/20 hypothesis: tensor([152.8022, 183.6741, 180.9683, 197.0706, 140.1009]) Cost: 0.735152\n",
      "Epoch   17/20 hypothesis: tensor([152.8022, 183.6741, 180.9683, 197.0706, 140.1009]) Cost: 0.734758\n",
      "Epoch   18/20 hypothesis: tensor([152.8022, 183.6741, 180.9683, 197.0706, 140.1009]) Cost: 0.734610\n",
      "Epoch   19/20 hypothesis: tensor([152.8022, 183.6741, 180.9683, 197.0706, 140.1009]) Cost: 0.734520\n",
      "Epoch   20/20 hypothesis: tensor([152.8022, 183.6741, 180.9683, 197.0706, 140.1009]) Cost: 0.734462\n"
     ]
    }
   ],
   "source": [
    "# 데이터\n",
    "x_train = torch.FloatTensor([[73, 80, 75],\n",
    "                             [93, 88, 93],\n",
    "                             [89, 91, 90],\n",
    "                             [96, 98, 100],\n",
    "                             [73, 66, 70]])\n",
    "y_train = torch.FloatTensor([[152], [185], [180], [196], [142]])\n",
    "# 모델 초기화\n",
    "model = MultivariateLinearRegressionModel()\n",
    "# optimizer 설정\n",
    "optimizer = optim.SGD(model.parameters(), lr=1e-5)\n",
    "\n",
    "nb_epochs = 20\n",
    "for epoch in range(nb_epochs+1):\n",
    "    \n",
    "    # H(x) 계산\n",
    "    prediction = model(x_train)\n",
    "    \n",
    "    # H(x) 계산\n",
    "#     hypothesis = x_train.matmul(W) + b # or .mm or @\n",
    "    \n",
    "    # cost 계산\n",
    "    cost = F.mse_loss(prediction, y_train)\n",
    "    \n",
    "    # cost로 H(x) 개선\n",
    "    optimizer.zero_grad()\n",
    "    cost.backward()\n",
    "    optimizer.step()\n",
    "    \n",
    "    # 20번마다 로그 출력\n",
    "#     print('Epoch {:4d}/{} Cost: {:.6f}'.format(\n",
    "#         epoch, nb_epochs, cost.item()\n",
    "#     ))\n",
    "    \n",
    "    print('Epoch {:4d}/{} hypothesis: {} Cost: {:.6f}'.format(\n",
    "        epoch, nb_epochs, hypothesis.squeeze().detach(), cost.item()\n",
    "    ))"
   ]
  },
  {
   "cell_type": "code",
   "execution_count": 19,
   "metadata": {},
   "outputs": [
    {
     "name": "stdout",
     "output_type": "stream",
     "text": [
      "Epoch    0/20 hypothesis: tensor([17.5115, 25.7871, 22.8613, 25.8042, 20.1639]) Cost: 22387.818359\n",
      "Epoch    1/20 hypothesis: tensor([ 75.9445,  96.0188,  92.0620, 101.1620,  73.7330]) Cost: 7017.965332\n",
      "Epoch    2/20 hypothesis: tensor([108.6590, 135.3389, 130.8049, 143.3520, 103.7243]) Cost: 2200.332031\n",
      "Epoch    3/20 hypothesis: tensor([126.9748, 157.3528, 152.4957, 166.9727, 120.5152]) Cost: 690.259949\n",
      "Epoch    4/20 hypothesis: tensor([137.2292, 169.6774, 164.6396, 180.1970, 129.9158]) Cost: 216.932541\n",
      "Epoch    5/20 hypothesis: tensor([142.9704, 176.5775, 171.4386, 187.6009, 135.1788]) Cost: 68.569069\n",
      "Epoch    6/20 hypothesis: tensor([146.1847, 180.4405, 175.2451, 191.7460, 138.1252]) Cost: 22.065310\n",
      "Epoch    7/20 hypothesis: tensor([147.9844, 182.6033, 177.3762, 194.0667, 139.7748]) Cost: 7.488598\n",
      "Epoch    8/20 hypothesis: tensor([148.9920, 183.8140, 178.5694, 195.3660, 140.6983]) Cost: 2.919482\n",
      "Epoch    9/20 hypothesis: tensor([149.5563, 184.4918, 179.2374, 196.0934, 141.2152]) Cost: 1.487223\n",
      "Epoch   10/20 hypothesis: tensor([149.8722, 184.8712, 179.6115, 196.5007, 141.5046]) Cost: 1.038208\n",
      "Epoch   11/20 hypothesis: tensor([150.0492, 185.0836, 179.8209, 196.7287, 141.6665]) Cost: 0.897366\n",
      "Epoch   12/20 hypothesis: tensor([150.1484, 185.2025, 179.9382, 196.8564, 141.7571]) Cost: 0.853117\n",
      "Epoch   13/20 hypothesis: tensor([150.2040, 185.2689, 180.0039, 196.9279, 141.8078]) Cost: 0.839162\n",
      "Epoch   14/20 hypothesis: tensor([150.2352, 185.3061, 180.0407, 196.9679, 141.8361]) Cost: 0.834684\n",
      "Epoch   15/20 hypothesis: tensor([150.2528, 185.3269, 180.0614, 196.9903, 141.8519]) Cost: 0.833198\n",
      "Epoch   16/20 hypothesis: tensor([150.2627, 185.3384, 180.0729, 197.0029, 141.8606]) Cost: 0.832640\n",
      "Epoch   17/20 hypothesis: tensor([150.2684, 185.3448, 180.0794, 197.0099, 141.8655]) Cost: 0.832361\n",
      "Epoch   18/20 hypothesis: tensor([150.2716, 185.3483, 180.0831, 197.0139, 141.8681]) Cost: 0.832187\n",
      "Epoch   19/20 hypothesis: tensor([150.2735, 185.3503, 180.0852, 197.0161, 141.8696]) Cost: 0.832031\n",
      "Epoch   20/20 hypothesis: tensor([150.2747, 185.3513, 180.0864, 197.0173, 141.8703]) Cost: 0.831894\n"
     ]
    }
   ],
   "source": [
    "# 데이터\n",
    "x_train = torch.FloatTensor([[73, 80, 75],\n",
    "                             [93, 88, 93],\n",
    "                             [89, 91, 90],\n",
    "                             [96, 98, 100],\n",
    "                             [73, 66, 70]])\n",
    "y_train = torch.FloatTensor([[152], [185], [180], [196], [142]])\n",
    "# 모델 초기화\n",
    "model = MultivariateLinearRegressionModel()\n",
    "# optimizer 설정\n",
    "optimizer = optim.SGD(model.parameters(), lr=1e-5)\n",
    "\n",
    "nb_epochs = 20\n",
    "for epoch in range(nb_epochs+1):\n",
    "    \n",
    "    # H(x) 계산\n",
    "    hypothesis = model(x_train)\n",
    "    \n",
    "    # cost 계산\n",
    "    cost = F.mse_loss(hypothesis, y_train) \n",
    "    \n",
    "    # cost로 H(x) 개선\n",
    "    optimizer.zero_grad()\n",
    "    cost.backward()\n",
    "    optimizer.step()\n",
    "    \n",
    "    # 20번마다 로그 출력\n",
    "    print('Epoch {:4d}/{} hypothesis: {} Cost: {:.6f}'.format(\n",
    "        epoch, nb_epochs, hypothesis.squeeze().detach(), cost.item()\n",
    "    ))"
   ]
  },
  {
   "cell_type": "code",
   "execution_count": null,
   "metadata": {},
   "outputs": [],
   "source": []
  },
  {
   "cell_type": "code",
   "execution_count": null,
   "metadata": {},
   "outputs": [],
   "source": []
  }
 ],
 "metadata": {
  "kernelspec": {
   "display_name": "Python 3",
   "language": "python",
   "name": "python3"
  },
  "language_info": {
   "codemirror_mode": {
    "name": "ipython",
    "version": 3
   },
   "file_extension": ".py",
   "mimetype": "text/x-python",
   "name": "python",
   "nbconvert_exporter": "python",
   "pygments_lexer": "ipython3",
   "version": "3.6.7"
  }
 },
 "nbformat": 4,
 "nbformat_minor": 2
}
